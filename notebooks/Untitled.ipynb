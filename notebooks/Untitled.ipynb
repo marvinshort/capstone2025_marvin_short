{
 "cells": [
  {
   "cell_type": "code",
   "execution_count": 1,
   "id": "0d7e1089-39f5-4e59-8b00-45670b4fa516",
   "metadata": {},
   "outputs": [],
   "source": [
    "import pandas as pd\n",
    "import numpy as np\n",
    "import requests\n",
    "import matplotlib.pyplot as plt\n",
    "import seaborn as sns\n",
    "import json"
   ]
  },
  {
   "cell_type": "code",
   "execution_count": 14,
   "id": "fc203b92-03f1-4459-be3e-7112d4f01223",
   "metadata": {},
   "outputs": [],
   "source": [
    "file_path = 'C:/Users/marvi/Documents/DA15/Python/projects/capstone2025_marvin_short/data/Downloaded Data/ELEC/ELEC.txt'\n",
    "\n",
    "with open(file_path, 'r') as file:\n",
    "    file_data = file.read()\n"
   ]
  },
  {
   "cell_type": "code",
   "execution_count": 18,
   "id": "3b7257d6-27db-4230-a067-d95164d2e6d3",
   "metadata": {},
   "outputs": [],
   "source": [
    "all_data = json.dumps(file_data)"
   ]
  },
  {
   "cell_type": "code",
   "execution_count": 19,
   "id": "27cac348-4ff0-4865-8e6e-58c42493dd83",
   "metadata": {},
   "outputs": [],
   "source": []
  },
  {
   "cell_type": "code",
   "execution_count": null,
   "id": "b1e5f237-6479-47be-aace-679588b6a323",
   "metadata": {},
   "outputs": [],
   "source": []
  }
 ],
 "metadata": {
  "kernelspec": {
   "display_name": "Python [conda env:base] *",
   "language": "python",
   "name": "conda-base-py"
  },
  "language_info": {
   "codemirror_mode": {
    "name": "ipython",
    "version": 3
   },
   "file_extension": ".py",
   "mimetype": "text/x-python",
   "name": "python",
   "nbconvert_exporter": "python",
   "pygments_lexer": "ipython3",
   "version": "3.12.7"
  }
 },
 "nbformat": 4,
 "nbformat_minor": 5
}
