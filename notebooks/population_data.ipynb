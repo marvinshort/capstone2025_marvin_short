{
 "cells": [
  {
   "cell_type": "code",
   "execution_count": 1,
   "id": "c8a48ebb-d288-45c4-9453-07556c08cf82",
   "metadata": {},
   "outputs": [],
   "source": [
    "import pandas as pd\n",
    "import requests\n",
    "import matplotlib.pyplot as plt\n",
    "import seaborn as sns\n",
    "import json"
   ]
  },
  {
   "cell_type": "code",
   "execution_count": 2,
   "id": "97bff17d-9284-4d05-a7a4-7e4182afba1e",
   "metadata": {},
   "outputs": [],
   "source": [
    "#Import files\n",
    "\n",
    "complete_seds = pd.read_csv('../data/Complete_SEDS.csv')\n",
    "\n",
    "codes_descriptions = pd.read_excel('../data/Codes_and_Descriptions.xlsx', sheet_name = 'MSN descriptions', usecols=lambda x: x != 'Unnamed: 0', skiprows = 10)"
   ]
  },
  {
   "cell_type": "code",
   "execution_count": 3,
   "id": "9cb7eced-ae14-45e1-8fc6-ea5ea87c7c29",
   "metadata": {},
   "outputs": [
    {
     "data": {
      "text/html": [
       "<div>\n",
       "<style scoped>\n",
       "    .dataframe tbody tr th:only-of-type {\n",
       "        vertical-align: middle;\n",
       "    }\n",
       "\n",
       "    .dataframe tbody tr th {\n",
       "        vertical-align: top;\n",
       "    }\n",
       "\n",
       "    .dataframe thead th {\n",
       "        text-align: right;\n",
       "    }\n",
       "</style>\n",
       "<table border=\"1\" class=\"dataframe\">\n",
       "  <thead>\n",
       "    <tr style=\"text-align: right;\">\n",
       "      <th></th>\n",
       "      <th>Data_Status</th>\n",
       "      <th>MSN</th>\n",
       "      <th>StateCode</th>\n",
       "      <th>Year</th>\n",
       "      <th>Data</th>\n",
       "    </tr>\n",
       "  </thead>\n",
       "  <tbody>\n",
       "    <tr>\n",
       "      <th>0</th>\n",
       "      <td>2023F</td>\n",
       "      <td>ABICB</td>\n",
       "      <td>AK</td>\n",
       "      <td>1960</td>\n",
       "      <td>0.0</td>\n",
       "    </tr>\n",
       "    <tr>\n",
       "      <th>1</th>\n",
       "      <td>2023F</td>\n",
       "      <td>ABICB</td>\n",
       "      <td>AK</td>\n",
       "      <td>1961</td>\n",
       "      <td>0.0</td>\n",
       "    </tr>\n",
       "    <tr>\n",
       "      <th>2</th>\n",
       "      <td>2023F</td>\n",
       "      <td>ABICB</td>\n",
       "      <td>AK</td>\n",
       "      <td>1962</td>\n",
       "      <td>0.0</td>\n",
       "    </tr>\n",
       "    <tr>\n",
       "      <th>3</th>\n",
       "      <td>2023F</td>\n",
       "      <td>ABICB</td>\n",
       "      <td>AK</td>\n",
       "      <td>1963</td>\n",
       "      <td>0.0</td>\n",
       "    </tr>\n",
       "    <tr>\n",
       "      <th>4</th>\n",
       "      <td>2023F</td>\n",
       "      <td>ABICB</td>\n",
       "      <td>AK</td>\n",
       "      <td>1964</td>\n",
       "      <td>0.0</td>\n",
       "    </tr>\n",
       "  </tbody>\n",
       "</table>\n",
       "</div>"
      ],
      "text/plain": [
       "  Data_Status    MSN StateCode  Year  Data\n",
       "0       2023F  ABICB        AK  1960   0.0\n",
       "1       2023F  ABICB        AK  1961   0.0\n",
       "2       2023F  ABICB        AK  1962   0.0\n",
       "3       2023F  ABICB        AK  1963   0.0\n",
       "4       2023F  ABICB        AK  1964   0.0"
      ]
     },
     "execution_count": 3,
     "metadata": {},
     "output_type": "execute_result"
    }
   ],
   "source": [
    "complete_seds.head()"
   ]
  },
  {
   "cell_type": "code",
   "execution_count": 4,
   "id": "3970ff26-abec-4490-ac67-f4e5ebc23793",
   "metadata": {},
   "outputs": [
    {
     "data": {
      "text/plain": [
       "(2364930, 5)"
      ]
     },
     "execution_count": 4,
     "metadata": {},
     "output_type": "execute_result"
    }
   ],
   "source": [
    "complete_seds.shape"
   ]
  },
  {
   "cell_type": "code",
   "execution_count": 5,
   "id": "191e18bb-aaed-4090-9769-e51a8e3568a3",
   "metadata": {},
   "outputs": [
    {
     "data": {
      "text/html": [
       "<div>\n",
       "<style scoped>\n",
       "    .dataframe tbody tr th:only-of-type {\n",
       "        vertical-align: middle;\n",
       "    }\n",
       "\n",
       "    .dataframe tbody tr th {\n",
       "        vertical-align: top;\n",
       "    }\n",
       "\n",
       "    .dataframe thead th {\n",
       "        text-align: right;\n",
       "    }\n",
       "</style>\n",
       "<table border=\"1\" class=\"dataframe\">\n",
       "  <thead>\n",
       "    <tr style=\"text-align: right;\">\n",
       "      <th></th>\n",
       "      <th>MSN</th>\n",
       "      <th>Description</th>\n",
       "      <th>Unit</th>\n",
       "    </tr>\n",
       "  </thead>\n",
       "  <tbody>\n",
       "    <tr>\n",
       "      <th>0</th>\n",
       "      <td>ABICB</td>\n",
       "      <td>Aviation gasoline blending components consumed...</td>\n",
       "      <td>Billion Btu</td>\n",
       "    </tr>\n",
       "    <tr>\n",
       "      <th>1</th>\n",
       "      <td>ABICP</td>\n",
       "      <td>Aviation gasoline blending components consumed...</td>\n",
       "      <td>Thousand barrels</td>\n",
       "    </tr>\n",
       "    <tr>\n",
       "      <th>2</th>\n",
       "      <td>ARICB</td>\n",
       "      <td>Asphalt and road oil consumed by the industria...</td>\n",
       "      <td>Billion Btu</td>\n",
       "    </tr>\n",
       "    <tr>\n",
       "      <th>3</th>\n",
       "      <td>ARICD</td>\n",
       "      <td>Asphalt and road oil price in the industrial s...</td>\n",
       "      <td>Dollars per million Btu</td>\n",
       "    </tr>\n",
       "    <tr>\n",
       "      <th>4</th>\n",
       "      <td>ARICP</td>\n",
       "      <td>Asphalt and road oil consumed by the industria...</td>\n",
       "      <td>Thousand barrels</td>\n",
       "    </tr>\n",
       "  </tbody>\n",
       "</table>\n",
       "</div>"
      ],
      "text/plain": [
       "     MSN                                        Description  \\\n",
       "0  ABICB  Aviation gasoline blending components consumed...   \n",
       "1  ABICP  Aviation gasoline blending components consumed...   \n",
       "2  ARICB  Asphalt and road oil consumed by the industria...   \n",
       "3  ARICD  Asphalt and road oil price in the industrial s...   \n",
       "4  ARICP  Asphalt and road oil consumed by the industria...   \n",
       "\n",
       "                      Unit  \n",
       "0              Billion Btu  \n",
       "1         Thousand barrels  \n",
       "2              Billion Btu  \n",
       "3  Dollars per million Btu  \n",
       "4         Thousand barrels  "
      ]
     },
     "execution_count": 5,
     "metadata": {},
     "output_type": "execute_result"
    }
   ],
   "source": [
    "codes_descriptions.head()"
   ]
  },
  {
   "cell_type": "code",
   "execution_count": 6,
   "id": "f39d821b-3f82-41fd-adc3-0573e3cbd586",
   "metadata": {},
   "outputs": [
    {
     "data": {
      "text/plain": [
       "(920, 3)"
      ]
     },
     "execution_count": 6,
     "metadata": {},
     "output_type": "execute_result"
    }
   ],
   "source": [
    "codes_descriptions.shape"
   ]
  },
  {
   "cell_type": "code",
   "execution_count": 7,
   "id": "00feb5de-7903-418a-a774-f55c78dcca75",
   "metadata": {},
   "outputs": [],
   "source": [
    "complete_seds_data = pd.merge(complete_seds, codes_descriptions, how='left', on ='MSN')"
   ]
  },
  {
   "cell_type": "code",
   "execution_count": 8,
   "id": "060cf109-c70d-4673-b574-008a25f7a14c",
   "metadata": {},
   "outputs": [],
   "source": [
    "dataframes = [complete_seds_data]\n",
    "\n",
    "for x in dataframes:\n",
    "    x.columns= x.columns.str.lower()"
   ]
  },
  {
   "cell_type": "code",
   "execution_count": 9,
   "id": "e1a0f92d-334b-4aaf-900b-a3a3b4503790",
   "metadata": {},
   "outputs": [],
   "source": [
    "list_of_categories = ['TPOPP']\n",
    "\n",
    "population_data = complete_seds_data.loc[complete_seds_data['msn'].isin(list_of_categories)]"
   ]
  },
  {
   "cell_type": "code",
   "execution_count": 10,
   "id": "56febb93-4856-42d9-846d-23cf5ad8ca1c",
   "metadata": {},
   "outputs": [
    {
     "data": {
      "text/html": [
       "<div>\n",
       "<style scoped>\n",
       "    .dataframe tbody tr th:only-of-type {\n",
       "        vertical-align: middle;\n",
       "    }\n",
       "\n",
       "    .dataframe tbody tr th {\n",
       "        vertical-align: top;\n",
       "    }\n",
       "\n",
       "    .dataframe thead th {\n",
       "        text-align: right;\n",
       "    }\n",
       "</style>\n",
       "<table border=\"1\" class=\"dataframe\">\n",
       "  <thead>\n",
       "    <tr style=\"text-align: right;\">\n",
       "      <th></th>\n",
       "      <th>data_status</th>\n",
       "      <th>msn</th>\n",
       "      <th>statecode</th>\n",
       "      <th>year</th>\n",
       "      <th>data</th>\n",
       "      <th>description</th>\n",
       "      <th>unit</th>\n",
       "    </tr>\n",
       "  </thead>\n",
       "  <tbody>\n",
       "    <tr>\n",
       "      <th>2176170</th>\n",
       "      <td>2023F</td>\n",
       "      <td>TPOPP</td>\n",
       "      <td>AK</td>\n",
       "      <td>1960</td>\n",
       "      <td>229.0</td>\n",
       "      <td>Resident population including Armed Forces</td>\n",
       "      <td>Thousand</td>\n",
       "    </tr>\n",
       "    <tr>\n",
       "      <th>2176171</th>\n",
       "      <td>2023F</td>\n",
       "      <td>TPOPP</td>\n",
       "      <td>AK</td>\n",
       "      <td>1961</td>\n",
       "      <td>238.0</td>\n",
       "      <td>Resident population including Armed Forces</td>\n",
       "      <td>Thousand</td>\n",
       "    </tr>\n",
       "    <tr>\n",
       "      <th>2176172</th>\n",
       "      <td>2023F</td>\n",
       "      <td>TPOPP</td>\n",
       "      <td>AK</td>\n",
       "      <td>1962</td>\n",
       "      <td>246.0</td>\n",
       "      <td>Resident population including Armed Forces</td>\n",
       "      <td>Thousand</td>\n",
       "    </tr>\n",
       "    <tr>\n",
       "      <th>2176173</th>\n",
       "      <td>2023F</td>\n",
       "      <td>TPOPP</td>\n",
       "      <td>AK</td>\n",
       "      <td>1963</td>\n",
       "      <td>256.0</td>\n",
       "      <td>Resident population including Armed Forces</td>\n",
       "      <td>Thousand</td>\n",
       "    </tr>\n",
       "    <tr>\n",
       "      <th>2176174</th>\n",
       "      <td>2023F</td>\n",
       "      <td>TPOPP</td>\n",
       "      <td>AK</td>\n",
       "      <td>1964</td>\n",
       "      <td>263.0</td>\n",
       "      <td>Resident population including Armed Forces</td>\n",
       "      <td>Thousand</td>\n",
       "    </tr>\n",
       "  </tbody>\n",
       "</table>\n",
       "</div>"
      ],
      "text/plain": [
       "        data_status    msn statecode  year   data  \\\n",
       "2176170       2023F  TPOPP        AK  1960  229.0   \n",
       "2176171       2023F  TPOPP        AK  1961  238.0   \n",
       "2176172       2023F  TPOPP        AK  1962  246.0   \n",
       "2176173       2023F  TPOPP        AK  1963  256.0   \n",
       "2176174       2023F  TPOPP        AK  1964  263.0   \n",
       "\n",
       "                                        description      unit  \n",
       "2176170  Resident population including Armed Forces  Thousand  \n",
       "2176171  Resident population including Armed Forces  Thousand  \n",
       "2176172  Resident population including Armed Forces  Thousand  \n",
       "2176173  Resident population including Armed Forces  Thousand  \n",
       "2176174  Resident population including Armed Forces  Thousand  "
      ]
     },
     "execution_count": 10,
     "metadata": {},
     "output_type": "execute_result"
    }
   ],
   "source": [
    "population_data.head()"
   ]
  },
  {
   "cell_type": "code",
   "execution_count": 11,
   "id": "4b04eb9d-9d7d-4b60-8b8f-82826dfe3b77",
   "metadata": {},
   "outputs": [
    {
     "data": {
      "text/plain": [
       "data_status     object\n",
       "msn             object\n",
       "statecode       object\n",
       "year             int64\n",
       "data           float64\n",
       "description     object\n",
       "unit            object\n",
       "dtype: object"
      ]
     },
     "execution_count": 11,
     "metadata": {},
     "output_type": "execute_result"
    }
   ],
   "source": [
    "#Data Types Before\n",
    "population_data.dtypes"
   ]
  },
  {
   "cell_type": "code",
   "execution_count": 12,
   "id": "af18424c-da37-406e-9ae3-ee120ea221d1",
   "metadata": {},
   "outputs": [],
   "source": [
    "#Format Columns\n",
    "\n",
    "\n",
    "population_data = population_data.drop('data_status', axis = 1)\n",
    "\n",
    "population_data['year'] = pd.to_datetime(population_data['year'], format = '%Y')\n"
   ]
  },
  {
   "cell_type": "code",
   "execution_count": 13,
   "id": "673cb78c-6d4a-4623-a33d-27be6091b88a",
   "metadata": {},
   "outputs": [
    {
     "data": {
      "text/plain": [
       "msn                    object\n",
       "statecode              object\n",
       "year           datetime64[ns]\n",
       "data                  float64\n",
       "description            object\n",
       "unit                   object\n",
       "dtype: object"
      ]
     },
     "execution_count": 13,
     "metadata": {},
     "output_type": "execute_result"
    }
   ],
   "source": [
    "#Data Types After\n",
    "population_data.dtypes"
   ]
  },
  {
   "cell_type": "code",
   "execution_count": 16,
   "id": "fb346a8b-e6e4-4a09-b998-f4cacdaa2e8f",
   "metadata": {},
   "outputs": [],
   "source": [
    "population_data = population_data[population_data['year'] >= '2000']"
   ]
  },
  {
   "cell_type": "code",
   "execution_count": 17,
   "id": "ec52e0a2-ed23-4877-b1f2-60f253bcedc3",
   "metadata": {},
   "outputs": [],
   "source": [
    "file_path = \"C:/Users/marvi/Documents/DA15/Python/projects/capstone2025_marvin_short/data/population_data.csv\"\n",
    "\n",
    "population_data.to_csv(file_path, index=False)"
   ]
  }
 ],
 "metadata": {
  "kernelspec": {
   "display_name": "Python [conda env:base] *",
   "language": "python",
   "name": "conda-base-py"
  },
  "language_info": {
   "codemirror_mode": {
    "name": "ipython",
    "version": 3
   },
   "file_extension": ".py",
   "mimetype": "text/x-python",
   "name": "python",
   "nbconvert_exporter": "python",
   "pygments_lexer": "ipython3",
   "version": "3.12.7"
  }
 },
 "nbformat": 4,
 "nbformat_minor": 5
}
